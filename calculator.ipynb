{
 "cells": [
  {
   "cell_type": "code",
   "execution_count": 6,
   "id": "fcce7626",
   "metadata": {},
   "outputs": [
    {
     "ename": "SyntaxError",
     "evalue": "unterminated string literal (detected at line 1) (3912642785.py, line 1)",
     "output_type": "error",
     "traceback": [
      "\u001b[1;36m  Cell \u001b[1;32mIn[6], line 1\u001b[1;36m\u001b[0m\n\u001b[1;33m    print('a% b%'')\u001b[0m\n\u001b[1;37m                 ^\u001b[0m\n\u001b[1;31mSyntaxError\u001b[0m\u001b[1;31m:\u001b[0m unterminated string literal (detected at line 1)\n"
     ]
    }
   ],
   "source": [
    "print('a% b%'')\n",
    "x=a+b\n",
    "print(x)"
   ]
  },
  {
   "cell_type": "code",
   "execution_count": 22,
   "id": "c94fae9f",
   "metadata": {},
   "outputs": [
    {
     "ename": "SyntaxError",
     "evalue": "invalid syntax. Perhaps you forgot a comma? (2874531294.py, line 9)",
     "output_type": "error",
     "traceback": [
      "\u001b[1;36m  Cell \u001b[1;32mIn[22], line 9\u001b[1;36m\u001b[0m\n\u001b[1;33m    print(\"Subtration is\"y)\u001b[0m\n\u001b[1;37m          ^\u001b[0m\n\u001b[1;31mSyntaxError\u001b[0m\u001b[1;31m:\u001b[0m invalid syntax. Perhaps you forgot a comma?\n"
     ]
    }
   ],
   "source": [
    "a=15\n",
    "b=12\n",
    "w=a/b \n",
    "x=a+b\n",
    "y=a-b\n",
    "z=a*b\n",
    "print(\"Division is\",w)\n",
    "print(\"Sum is\",x)\n",
    "print(\"Subtration is\"y)\n",
    "print(\"Multiplicaton is\",z)"
   ]
  },
  {
   "cell_type": "code",
   "execution_count": 44,
   "id": "4f6ccb0d",
   "metadata": {},
   "outputs": [
    {
     "name": "stdout",
     "output_type": "stream",
     "text": [
      "15 Divided by 5 = 3.0\n",
      "15 is Added to 5 = 20\n",
      "Subtracting 15 and 5 = 10\n",
      "15 Multiplied by 5 = 75\n"
     ]
    }
   ],
   "source": [
    "a=15\n",
    "b=5\n",
    "w=a/b \n",
    "x=a+b\n",
    "y=a-b\n",
    "z=a*b\n",
    "print(a ,\"Divided by\",b,\"=\",w)\n",
    "print(a ,\"is Added to\",b,\"=\",x)\n",
    "print(\"Subtracting\",a,'and',b,\"=\",y)\n",
    "print(a ,\"Multiplied by\",b,\"=\",z)"
   ]
  },
  {
   "cell_type": "code",
   "execution_count": null,
   "id": "ea47f407",
   "metadata": {},
   "outputs": [],
   "source": []
  }
 ],
 "metadata": {
  "kernelspec": {
   "display_name": "Python 3 (ipykernel)",
   "language": "python",
   "name": "python3"
  },
  "language_info": {
   "codemirror_mode": {
    "name": "ipython",
    "version": 3
   },
   "file_extension": ".py",
   "mimetype": "text/x-python",
   "name": "python",
   "nbconvert_exporter": "python",
   "pygments_lexer": "ipython3",
   "version": "3.10.9"
  }
 },
 "nbformat": 4,
 "nbformat_minor": 5
}
